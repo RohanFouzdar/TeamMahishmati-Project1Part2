{
 "cells": [
  {
   "cell_type": "code",
   "execution_count": 36,
   "metadata": {},
   "outputs": [
    {
     "name": "stdout",
     "output_type": "stream",
     "text": [
      "        ~DrAIvex Group Notification~     \n",
      "tiyasa bhaumik Removed\n",
      "neha  Removed\n",
      "debangan das Removed\n",
      "shubhankar singh Removed\n",
      "alok bhowmik Removed\n",
      "chanchala kumari Removed\n",
      "astha gupta Removed\n",
      "alebhia ash Removed\n",
      "shruti srivastava Removed\n",
      "harsh shaw Removed\n",
      "ajit kumar Removed\n",
      "sailesh gurung Removed\n",
      "kundan kumar Removed\n",
      "juhi kumari Removed\n",
      "sudip mondal Removed\n",
      "santosh gupta Removed\n",
      "arkapravo ghosh Removed\n",
      "DriAIveX Cancelled as Sum of ME and CE students is less than 10% of Total Eligible Students.\n"
     ]
    }
   ],
   "source": [
    "import pandas as pd\n",
    "import numpy as np\n",
    "\n",
    "set=pd.read_excel('C:\\\\Users\\\\rofoo\\\\Downloads\\\\dataset.xls')\n",
    "\n",
    "print('        ~DrAIvex Group Notification~     ')\n",
    "for i in range(len(set.Name)):\n",
    "    if(set[\"Year\"][i]==str(\"3rd\") or set[\"Year\"][i]==str(\"4th\") ):\n",
    "        name= (set.Name[i].lower())\n",
    "        mail= (set.Email[i].lower())\n",
    "        firstname=name.split(' ')[0]\n",
    "        lastname=name.split(' ')[-1]\n",
    "        \n",
    "        x=mail.find(firstname)\n",
    "        y=mail.find(lastname)\n",
    "        \n",
    "        if (x!= -1) or (y!= -1):\n",
    "            print(firstname,lastname,'removed')\n",
    "            \n",
    "            set.drop([i],inplace=True)\n",
    "set = set.reset_index(drop=True)\n",
    "l = len(set.Name)\n",
    "c=0\n",
    "for j in range(l):\n",
    "     if(set[\"Department\"][j]==str(\"CE\")  or set[\"Department\"][j]==str(\"ME\") ):\n",
    "        c=c+1\n",
    "if l>=30 :\n",
    "    if c>=(0.1*l):\n",
    "         print(\"DriAIveX EXISTS. All Criteria SATISFIED.\")\n",
    "    else:\n",
    "        print(\"DriAIveX Cancelled as Sum of ME and CE students is less than 10% of Total Eligible Students.\")\n",
    "else:\n",
    "      print(\"DrAIveX Cancelled as Total Number of Eligible Students less than 30.\")"
   ]
  },
  {
   "cell_type": "code",
   "execution_count": null,
   "metadata": {},
   "outputs": [],
   "source": []
  }
 ],
 "metadata": {
  "kernelspec": {
   "display_name": "Python 3",
   "language": "python",
   "name": "python3"
  },
  "language_info": {
   "codemirror_mode": {
    "name": "ipython",
    "version": 3
   },
   "file_extension": ".py",
   "mimetype": "text/x-python",
   "name": "python",
   "nbconvert_exporter": "python",
   "pygments_lexer": "ipython3",
   "version": "3.6.5"
  }
 },
 "nbformat": 4,
 "nbformat_minor": 2
}
